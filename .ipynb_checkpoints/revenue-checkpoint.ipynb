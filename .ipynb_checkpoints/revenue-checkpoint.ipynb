{
 "cells": [
  {
   "cell_type": "code",
   "execution_count": 20,
   "id": "79db1249",
   "metadata": {
    "scrolled": true
   },
   "outputs": [],
   "source": [
    "import tabula as tb\n",
    "import pandas as pd\n",
    "import sqlite3 as db"
   ]
  },
  {
   "cell_type": "code",
   "execution_count": 21,
   "id": "608b2e16",
   "metadata": {},
   "outputs": [],
   "source": [
    "conn = db.connect('hocobydesign.db')\n",
    "c = conn.cursor()"
   ]
  },
  {
   "cell_type": "markdown",
   "id": "53e4c87e",
   "metadata": {},
   "source": [
    "---"
   ]
  },
  {
   "cell_type": "code",
   "execution_count": 22,
   "id": "058cdd88",
   "metadata": {},
   "outputs": [],
   "source": [
    "def assumptions():\n",
    "    assumptions = [['res_assessed_val', 'non_res_assessed_val', 'affordability_ratio','loan_interest_rate',\\\n",
    "                    'down_payment','tax_rate','hoa','sf_ins','condo_ins','res_affordablity_ratio','mihu_tax_adjust','mihu'],[0.92, 1, 0.28, 0.05, 0.2, 0.032,50,\\\n",
    "                         50, 33.33,0.32,0.6,0.15]]\n",
    "    assumptions = pd.DataFrame(assumptions)\n",
    "    assumptions = assumptions.T\n",
    "    assumptions.columns = ['Category','Value']\n",
    "    assumptions['Value'] = assumptions['Value'].astype(float)\n",
    "    assumptions = assumptions.set_index('Category')\n",
    "\n",
    "    return assumptions\n"
   ]
  },
  {
   "cell_type": "code",
   "execution_count": 23,
   "id": "b0ec25b6",
   "metadata": {},
   "outputs": [],
   "source": [
    "def taxes_fees():\n",
    "    taxes_fees = [['county_tax','state_tax','fire_tax','ad_valorem','trash_fee'],[1.014,.112, .236, 0.08, 325]]\n",
    "    taxes_fees = pd.DataFrame(taxes_fees).T\n",
    "    taxes_fees.columns = ['Category','Value']\n",
    "    taxes_fees = taxes_fees.set_index('Category')\n",
    "    taxes_fees['Value']=taxes_fees['Value'].astype(float)\n",
    "    \n",
    "    return taxes_fees"
   ]
  },
  {
   "cell_type": "code",
   "execution_count": 24,
   "id": "b946d02a",
   "metadata": {},
   "outputs": [],
   "source": [
    "def tax_exemptions():\n",
    "    tax_exemptions = [['sfd', 'sfa','condo_apt','exemption_amount','rental_exemption'],[3.22, 2.68, 2.09,3200,3400]]\n",
    "    tax_exemptions = pd.DataFrame(tax_exemptions).T\n",
    "    tax_exemptions.columns = ['Category','Value']\n",
    "    tax_exemptions=tax_exemptions.set_index('Category')\n",
    "    tax_exemptions['Value']=tax_exemptions['Value'].astype(float)\n",
    "\n",
    "    return tax_exemptions"
   ]
  },
  {
   "cell_type": "markdown",
   "id": "3c20934d",
   "metadata": {},
   "source": [
    "---"
   ]
  },
  {
   "cell_type": "code",
   "execution_count": 157,
   "id": "5f2254d7",
   "metadata": {},
   "outputs": [],
   "source": [
    "def unpack_assessed_value(val):\n",
    "    val['Market Value Per unit']=val['Market Value Per unit'].str.replace(',','').str.replace('$','').astype(float)\n",
    "    val['Assessed Value Ratio']=assumptions().loc['res_assessed_val'].squeeze()\n",
    "    val['Assessed Value Per unit']=val['Market Value Per unit']*val['Assessed Value Ratio']\n",
    "    val.reset_index(drop=True, inplace=True)\n",
    "#     old_row_name = ['Single Family Detached', 'Single Family Attached', 'Condo Apartment',\\\n",
    "#                     'Rental Apartment (From Income Cap. Method)','Accessory Dwelling Unit']\n",
    "#     new_row_name = ['SFD','SFA','Condo_Apt','Rental_Apts','ADUS']\n",
    "#     val_index = val.index.to_list()\n",
    "#     for i in val_index:\n",
    "#         val[i]=\n",
    "    val=val\n",
    "\n",
    "    return val"
   ]
  },
  {
   "cell_type": "code",
   "execution_count": 26,
   "id": "75235433",
   "metadata": {},
   "outputs": [],
   "source": [
    "def property_tax(market_value, av_ratio):\n",
    "    property_tax = (market_value*av_ratio/100*taxes_fees().iloc[:4,:].sum()+taxes_fees().iloc[4,0])/12\n",
    "    return  property_tax\n",
    "\n",
    "def mortgage_calculation(p,i,n):\n",
    "    i=i/12\n",
    "    monthly_payment = p*(i*(1+i)**n)/((1+i)**n-1)\n",
    "    return monthly_payment"
   ]
  },
  {
   "cell_type": "markdown",
   "id": "1db4c876",
   "metadata": {},
   "source": [
    "---"
   ]
  },
  {
   "cell_type": "code",
   "execution_count": 27,
   "id": "e40e4529",
   "metadata": {},
   "outputs": [],
   "source": [
    "def income_tax(region,assessed_val_cat):\n",
    "    r = len(assessed_val_cat['Market Value Per unit'])\n",
    "    list_avail = ['Category','SFD', 'SFA','Condo_Apt']\n",
    "    region[:0]=['Gross Income']\n",
    "    region =pd.DataFrame(region).T\n",
    "    region.columns=list_avail\n",
    "    region = region.set_index('Category')\n",
    "    region.loc['Monthly Income']=region.iloc[0,:]/12\n",
    "    region.loc['Affordability Amount']=region.iloc[1,:]*assumptions().iloc[2,0]\n",
    "    region.loc['Market Value']=assessed_val_cat.iloc[:r,1].tolist()\n",
    "    region.loc['Loan Amount']=region.loc['Market Value']*(1-assumptions().iloc[4,0])\n",
    "    region.loc['Mortgage Payment']=[0]*r\n",
    "    region.loc['Property Taxes']=[0]*r\n",
    "    \n",
    "\n",
    "    x=0\n",
    "    for i in region.iloc[4,:].tolist():\n",
    "        region.iloc[5,x]=mortgage_calculation(i,assumptions().iloc[3,0],360).squeeze()\n",
    "        x=x+1\n",
    "    x=0\n",
    "    for i in region.iloc[3,:].tolist():\n",
    "        region.iloc[6,x]=property_tax(i,assumptions().iloc[0,0]).squeeze()\n",
    "        x=x+1\n",
    "\n",
    "    region.loc['HOA']=assumptions().iloc[6,0]\n",
    "    insurance_assignment = [assumptions().iloc[7,0],assumptions().iloc[7,0],assumptions().iloc[8,0]]\n",
    "    region.loc['Insurance']=insurance_assignment[0:r]\n",
    "    region.loc['Total Monthly Payment']=region.iloc[5:,:].sum()\n",
    "    region.loc['First Month Interest']=region.loc['Loan Amount']*assumptions().iloc[3,0]/12\n",
    "    region.loc['Gross Income to Market Value Ratio']=region.loc['Gross Income']/region.loc['Market Value']\n",
    "    region.loc['Monthly Mortgage Deduction']=[0]*r\n",
    "    y=0\n",
    "    for i in region.loc['Property Taxes'].tolist():\n",
    "        i=i.squeeze()*12\n",
    "        if i >10000: \n",
    "            i = 10000 \n",
    "        interest_ded = i/12\n",
    "        region.iloc[12,y]= interest_ded + region.iloc[10,y]\n",
    "        y=y+1\n",
    "    region.loc['Annual Mortgage Deduction']=region.loc['Monthly Mortgage Deduction']*12\n",
    "    region.loc['Number of Exemptions']=tax_exemptions()['Value'].to_list()[:r]\n",
    "    region.loc['Adjustment of AGI']=region.loc['Number of Exemptions']*tax_exemptions().loc['exemption_amount'].squeeze()\n",
    "    region.loc['Total Adjustments - Net Taxable Income']= region.loc['Gross Income']-(region.loc['Annual Mortgage Deduction']+region.loc['Adjustment of AGI'])\n",
    "    region.loc['Net Taxable Income Ratio']=region.loc['Total Adjustments - Net Taxable Income']/region.loc['Gross Income']\n",
    "    region.loc['Resulting Income Tax per Unit']=region.loc['Total Adjustments - Net Taxable Income']*assumptions().loc['tax_rate'].squeeze()\n",
    "\n",
    "    return region"
   ]
  },
  {
   "cell_type": "code",
   "execution_count": 39,
   "id": "e665b120",
   "metadata": {},
   "outputs": [],
   "source": [
    "def rental_income_tax(region,assessed_val_cat):\n",
    "    region = pd.DataFrame(region).reset_index()\n",
    "    region.columns = ['Category','Rental Apts']\n",
    "    r = len(assessed_val_cat['Market Value Per unit'])\n",
    "    region.iloc[0,0]='Gross Income'\n",
    "    region = region.set_index('Category')\n",
    "    region.loc['Monthly Income']=region.iloc[0,:]/12\n",
    "    region.loc['Affordability Amount']=region.iloc[1,:]*assumptions().iloc[9,0]\n",
    "    region.loc['Number of Exemptions']=tax_exemptions()['Value'].to_list()[2]\n",
    "    region.loc['Adjustment of AGI']=region.loc['Number of Exemptions']*tax_exemptions().loc['exemption_amount'].squeeze()\n",
    "    region.loc['Standard State Deduction']=tax_exemptions().loc['rental_exemption'].squeeze()\n",
    "    region.loc['Total Adjustments - Net Taxable Income']= region.loc['Gross Income']-(region.loc['Standard State Deduction']+region.loc['Adjustment of AGI'])\n",
    "    region.loc['Net Taxable Income Ratio']=region.loc['Total Adjustments - Net Taxable Income']/region.loc['Gross Income']\n",
    "    region.loc['Resulting Income Tax per Unit']=region.loc['Total Adjustments - Net Taxable Income']*assumptions().loc['tax_rate'].squeeze()\n",
    "    region.loc['Income Tax for MIHU']=region.loc['Resulting Income Tax per Unit']*assumptions().loc['mihu_tax_adjust'].squeeze()\n",
    "    region.loc['Weighted Average Income Tax'] = region.loc['Income Tax for MIHU']*assumptions().loc['mihu'].squeeze()+\\\n",
    "            region.loc['Resulting Income Tax per Unit']*(1-assumptions().loc['mihu'].squeeze())\n",
    "    return region"
   ]
  },
  {
   "cell_type": "code",
   "execution_count": 29,
   "id": "cfbd751e",
   "metadata": {},
   "outputs": [],
   "source": [
    "def adu_income_tax(region,assessed_val_cat):\n",
    "    region = pd.DataFrame(region).reset_index()\n",
    "    region.columns = ['Category','Accessory Dwelling Units']\n",
    "    r = len(assessed_val_cat['Market Value Per unit'])\n",
    "    region.iloc[0,0]='Gross Income'\n",
    "    region = region.set_index('Category')\n",
    "    region.loc['Monthly Income']=region.iloc[0,:]/12\n",
    "    region.loc['Affordability Amount']=region.iloc[1,:]*assumptions().iloc[2,0]\n",
    "    region.loc['Market Value']=assessed_val_cat.iloc[:r,1].tolist()\n",
    "    region.loc['Loan Amount']=region.loc['Market Value']*(1-assumptions().iloc[4,0])\n",
    "    region.loc['Mortgage Payment']=[0]*r\n",
    "    region.loc['Property Taxes']=[0]*r\n",
    "\n",
    "    x=0\n",
    "    for i in region.iloc[4,:].tolist():\n",
    "        region.iloc[5,x]=mortgage_calculation(i,assumptions().iloc[3,0],360).squeeze()\n",
    "        x=x+1\n",
    "    x=0\n",
    "    for i in region.iloc[3,:].tolist():\n",
    "        region.iloc[6,x]=property_tax(i,assumptions().iloc[0,0]).squeeze()\n",
    "        x=x+1\n",
    "    region.loc['HOA']=assumptions().iloc[6,0]\n",
    "    insurance_assignment = [assumptions().iloc[7,0],assumptions().iloc[7,0],assumptions().iloc[8,0]]\n",
    "    region.loc['Insurance']=insurance_assignment[0:r]\n",
    "    region.loc['Total Monthly Payment']=region.iloc[5:,:].sum()\n",
    "    region.loc['First Month Interest']=region.loc['Loan Amount']*assumptions().iloc[3,0]/12\n",
    "    region.loc['Gross Income to Market Value Ratio']=region.loc['Gross Income']/region.loc['Market Value']\n",
    "    region.loc['Monthly Mortgage Deduction']=[0]*r\n",
    "    y=0\n",
    "    for i in region.loc['Property Taxes'].tolist():\n",
    "        i=i*12\n",
    "        if i >10000: \n",
    "            i = 10000 \n",
    "        interest_ded = i/12\n",
    "        region.iloc[12,y]= interest_ded + region.iloc[10,y]\n",
    "        y=y+1\n",
    "\n",
    "    region.loc['Annual Mortgage Deduction']=region.loc['Monthly Mortgage Deduction']*12\n",
    "    region.loc['Number of Exemptions']=tax_exemptions()['Value'].to_list()[:r]\n",
    "    region.loc['Adjustment of AGI']=region.loc['Number of Exemptions']*tax_exemptions().loc['exemption_amount'].squeeze()\n",
    "    region.loc['Total Adjustments - Net Taxable Income']= region.loc['Gross Income']-(region.loc['Annual Mortgage Deduction']+region.loc['Adjustment of AGI'])\n",
    "    region.loc['Net Taxable Income Ratio']=region.loc['Total Adjustments - Net Taxable Income']/region.loc['Gross Income']\n",
    "    region.loc['Resulting Income Tax per Unit']=region.loc['Total Adjustments - Net Taxable Income']*assumptions().loc['tax_rate'].squeeze()\n",
    "\n",
    "    return region"
   ]
  },
  {
   "cell_type": "code",
   "execution_count": 30,
   "id": "42372393",
   "metadata": {},
   "outputs": [],
   "source": [
    "def rural_income_tax(region,assessed_val_cat):\n",
    "    r = len(assessed_val_cat['Market Value Per unit'])\n",
    "    list_avail = ['Category','SFD']\n",
    "    region = region[0:r]\n",
    "    region[:0]=['Gross Income']\n",
    "    region =pd.DataFrame(region).T\n",
    "    region.columns=list_avail\n",
    "    region = region.set_index('Category')\n",
    "    region.loc['Monthly Income']=region.iloc[0,:]/12\n",
    "    region.loc['Affordability Amount']=region.iloc[1,:]*assumptions().iloc[2,0]\n",
    "    region.loc['Market Value']=assessed_val_cat.iloc[:r,1].tolist()\n",
    "    region.loc['Loan Amount']=region.loc['Market Value']*(1-assumptions().iloc[4,0])\n",
    "    region.loc['Mortgage Payment']=[0]*r\n",
    "    region.loc['Property Taxes']=[0]*r\n",
    "\n",
    "    x=0\n",
    "    for i in region.iloc[4,:].tolist():\n",
    "        region.iloc[5,x]=mortgage_calculation(i,assumptions().iloc[3,0],360).squeeze()\n",
    "        x=x+1\n",
    "    x=0\n",
    "    for i in region.iloc[3,:].tolist():\n",
    "        region.iloc[6,x]=property_tax(i,assumptions().iloc[0,0]).squeeze()\n",
    "        x=x+1\n",
    "\n",
    "    region.loc['HOA']=assumptions().iloc[6,0]\n",
    "    insurance_assignment = [assumptions().iloc[7,0],assumptions().iloc[7,0],assumptions().iloc[8,0]]\n",
    "    region.loc['Insurance']=insurance_assignment[0:r]\n",
    "    region.loc['Total Monthly Payment']=region.iloc[5:,:].sum()\n",
    "    region.loc['First Month Interest']=region.loc['Loan Amount']*assumptions().iloc[3,0]/12\n",
    "    region.loc['Gross Income to Market Value Ratio']=region.loc['Gross Income']/region.loc['Market Value']\n",
    "    region.loc['Monthly Mortgage Deduction']=[0]*r\n",
    "    y=0\n",
    "    for i in region.loc['Property Taxes'].tolist():\n",
    "        i=i.squeeze()*12\n",
    "        if i >10000: \n",
    "            i = 10000 \n",
    "        interest_ded = i/12\n",
    "        region.iloc[12,y]= interest_ded + region.iloc[10,y]\n",
    "        y=y+1\n",
    "    region.loc['Annual Mortgage Deduction']=region.loc['Monthly Mortgage Deduction']*12\n",
    "    region.loc['Number of Exemptions']=tax_exemptions()['Value'].to_list()[:r]\n",
    "    region.loc['Adjustment of AGI']=region.loc['Number of Exemptions']*tax_exemptions().loc['exemption_amount'].squeeze()\n",
    "    region.loc['Total Adjustments - Net Taxable Income']= region.loc['Gross Income']-(region.loc['Annual Mortgage Deduction']+region.loc['Adjustment of AGI'])\n",
    "    region.loc['Net Taxable Income Ratio']=region.loc['Total Adjustments - Net Taxable Income']/region.loc['Gross Income']\n",
    "    region.loc['Resulting Income Tax per Unit']=region.loc['Total Adjustments - Net Taxable Income']*assumptions().loc['tax_rate'].squeeze()\n",
    "\n",
    "    return region"
   ]
  },
  {
   "cell_type": "markdown",
   "id": "cbb7075a",
   "metadata": {},
   "source": [
    "---"
   ]
  },
  {
   "cell_type": "code",
   "execution_count": 31,
   "id": "51c50a22",
   "metadata": {
    "collapsed": true
   },
   "outputs": [
    {
     "name": "stderr",
     "output_type": "stream",
     "text": [
      "/var/folders/tz/ntkg0c753tx3kzg7qnk4bxf00000gn/T/ipykernel_8973/155831965.py:2: FutureWarning: The default value of regex will change from True to False in a future version. In addition, single character regular expressions will *not* be treated as literal strings when regex=True.\n",
      "  val['Market Value Per unit']=val['Market Value Per unit'].str.replace(',','').str.replace('$','').astype(float)\n",
      "/var/folders/tz/ntkg0c753tx3kzg7qnk4bxf00000gn/T/ipykernel_8973/155831965.py:2: FutureWarning: The default value of regex will change from True to False in a future version. In addition, single character regular expressions will *not* be treated as literal strings when regex=True.\n",
      "  val['Market Value Per unit']=val['Market Value Per unit'].str.replace(',','').str.replace('$','').astype(float)\n",
      "/var/folders/tz/ntkg0c753tx3kzg7qnk4bxf00000gn/T/ipykernel_8973/155831965.py:2: FutureWarning: The default value of regex will change from True to False in a future version. In addition, single character regular expressions will *not* be treated as literal strings when regex=True.\n",
      "  val['Market Value Per unit']=val['Market Value Per unit'].str.replace(',','').str.replace('$','').astype(float)\n",
      "/var/folders/tz/ntkg0c753tx3kzg7qnk4bxf00000gn/T/ipykernel_8973/155831965.py:2: FutureWarning: The default value of regex will change from True to False in a future version. In addition, single character regular expressions will *not* be treated as literal strings when regex=True.\n",
      "  val['Market Value Per unit']=val['Market Value Per unit'].str.replace(',','').str.replace('$','').astype(float)\n",
      "/var/folders/tz/ntkg0c753tx3kzg7qnk4bxf00000gn/T/ipykernel_8973/155831965.py:2: FutureWarning: The default value of regex will change from True to False in a future version. In addition, single character regular expressions will *not* be treated as literal strings when regex=True.\n",
      "  val['Market Value Per unit']=val['Market Value Per unit'].str.replace(',','').str.replace('$','').astype(float)\n",
      "/var/folders/tz/ntkg0c753tx3kzg7qnk4bxf00000gn/T/ipykernel_8973/155831965.py:2: FutureWarning: The default value of regex will change from True to False in a future version. In addition, single character regular expressions will *not* be treated as literal strings when regex=True.\n",
      "  val['Market Value Per unit']=val['Market Value Per unit'].str.replace(',','').str.replace('$','').astype(float)\n",
      "/var/folders/tz/ntkg0c753tx3kzg7qnk4bxf00000gn/T/ipykernel_8973/155831965.py:2: FutureWarning: The default value of regex will change from True to False in a future version. In addition, single character regular expressions will *not* be treated as literal strings when regex=True.\n",
      "  val['Market Value Per unit']=val['Market Value Per unit'].str.replace(',','').str.replace('$','').astype(float)\n",
      "/var/folders/tz/ntkg0c753tx3kzg7qnk4bxf00000gn/T/ipykernel_8973/155831965.py:2: FutureWarning: The default value of regex will change from True to False in a future version. In addition, single character regular expressions will *not* be treated as literal strings when regex=True.\n",
      "  val['Market Value Per unit']=val['Market Value Per unit'].str.replace(',','').str.replace('$','').astype(float)\n"
     ]
    }
   ],
   "source": [
    "table2_1 = pd.read_sql_query('select * from table2_1',conn)\n",
    "assessed_value_category={}\n",
    "assessed_cat = ['table_columbia', 'table_elkridge','table_ellicott_city',\\\n",
    "      'table_rural_west','table_south_east','table_non_res','rental_apts','adus']\n",
    "indexer = [(4,7),(9,12),(14,17),(19,20), (22,25),(28,31),(26,27),(7,8)]\n",
    "j=0\n",
    "for i in assessed_cat:\n",
    "    r1,r2 = indexer[j]\n",
    "    assessed_value_category[i]= unpack_assessed_value(table2_1.iloc[r1:r2,1:3])\n",
    "    j=j+1"
   ]
  },
  {
   "cell_type": "code",
   "execution_count": 154,
   "id": "ca700001",
   "metadata": {},
   "outputs": [
    {
     "data": {
      "text/html": [
       "<div>\n",
       "<style scoped>\n",
       "    .dataframe tbody tr th:only-of-type {\n",
       "        vertical-align: middle;\n",
       "    }\n",
       "\n",
       "    .dataframe tbody tr th {\n",
       "        vertical-align: top;\n",
       "    }\n",
       "\n",
       "    .dataframe thead th {\n",
       "        text-align: right;\n",
       "    }\n",
       "</style>\n",
       "<table border=\"1\" class=\"dataframe\">\n",
       "  <thead>\n",
       "    <tr style=\"text-align: right;\">\n",
       "      <th></th>\n",
       "      <th>Category</th>\n",
       "      <th>Market Value Per unit</th>\n",
       "      <th>Assessed Value Ratio</th>\n",
       "      <th>Assessed Value Per unit</th>\n",
       "    </tr>\n",
       "  </thead>\n",
       "  <tbody>\n",
       "    <tr>\n",
       "      <th>0</th>\n",
       "      <td>Single Family Detached</td>\n",
       "      <td>934391.0</td>\n",
       "      <td>0.92</td>\n",
       "      <td>859639.72</td>\n",
       "    </tr>\n",
       "    <tr>\n",
       "      <th>1</th>\n",
       "      <td>Single Family Attached</td>\n",
       "      <td>643910.0</td>\n",
       "      <td>0.92</td>\n",
       "      <td>592397.20</td>\n",
       "    </tr>\n",
       "    <tr>\n",
       "      <th>2</th>\n",
       "      <td>Condo Apartment</td>\n",
       "      <td>372500.0</td>\n",
       "      <td>0.92</td>\n",
       "      <td>342700.00</td>\n",
       "    </tr>\n",
       "  </tbody>\n",
       "</table>\n",
       "</div>"
      ],
      "text/plain": [
       "                 Category  Market Value Per unit  Assessed Value Ratio  \\\n",
       "0  Single Family Detached               934391.0                  0.92   \n",
       "1  Single Family Attached               643910.0                  0.92   \n",
       "2         Condo Apartment               372500.0                  0.92   \n",
       "\n",
       "   Assessed Value Per unit  \n",
       "0                859639.72  \n",
       "1                592397.20  \n",
       "2                342700.00  "
      ]
     },
     "execution_count": 154,
     "metadata": {},
     "output_type": "execute_result"
    }
   ],
   "source": [
    "assessed_value_category['table_columbia']"
   ]
  },
  {
   "cell_type": "code",
   "execution_count": 32,
   "id": "6c3ae1ce",
   "metadata": {},
   "outputs": [],
   "source": [
    "regions = ['Columbia','Elkridge','Ellicott City',\\\n",
    "      'Rural West','South East','Non Residential','Rental Apts','Accessory Dwelling Unit']\n",
    "\n",
    "gross_income = pd.DataFrame([['Columbia',221695,154469, 90941],\\\n",
    "                                ['Elkridge',155452,116959,99419],\\\n",
    "                                ['Ellicott City',220373,166024,91445],\\\n",
    "                                ['South East', 203266,119002,84077],\\\n",
    "                                ['Rural West', 277369]])\n",
    "gross_income.columns=['City','SFD', 'SFA','Condo_Apt']"
   ]
  },
  {
   "cell_type": "code",
   "execution_count": 33,
   "id": "c06e0a02",
   "metadata": {},
   "outputs": [],
   "source": [
    "gross_income.set_index('City', inplace=True)"
   ]
  },
  {
   "cell_type": "code",
   "execution_count": 34,
   "id": "74ef23ca",
   "metadata": {},
   "outputs": [],
   "source": [
    "rental_adu = [['Rental Apts', 85313],['Accessory Dwelling Uint', 63305]]\n",
    "rental_adu = pd.DataFrame(rental_adu)\n",
    "rental_adu.columns = ['Category', 'Value']\n",
    "rental_adu.set_index('Category', inplace=True)"
   ]
  },
  {
   "cell_type": "code",
   "execution_count": 35,
   "id": "b6815b15",
   "metadata": {},
   "outputs": [],
   "source": [
    "to_display_col = assessed_value_category['table_columbia']\n",
    "gross_income_by_city_col = gross_income.loc['Columbia'].tolist()\n",
    "gross_income_by_city_col = income_tax(gross_income_by_city_col,to_display_col)"
   ]
  },
  {
   "cell_type": "code",
   "execution_count": 36,
   "id": "10cf808c",
   "metadata": {},
   "outputs": [],
   "source": [
    "to_display_elk = assessed_value_category['table_elkridge']\n",
    "gross_income_by_city_elk= gross_income.loc['Elkridge'].tolist()\n",
    "gross_income_by_city_elk = income_tax(gross_income_by_city_elk,to_display_elk)"
   ]
  },
  {
   "cell_type": "code",
   "execution_count": 37,
   "id": "784c1b38",
   "metadata": {},
   "outputs": [],
   "source": [
    "to_display_ec = assessed_value_category['table_ellicott_city']\n",
    "gross_income_by_city_ec = gross_income.loc['Ellicott City'].tolist()\n",
    "gross_income_by_city_ec = income_tax(gross_income_by_city_ec,to_display_ec)"
   ]
  },
  {
   "cell_type": "code",
   "execution_count": 38,
   "id": "b29e4f79",
   "metadata": {},
   "outputs": [],
   "source": [
    "to_display_se = assessed_value_category['table_south_east']\n",
    "gross_income_by_city_se = gross_income.loc['South East'].tolist()\n",
    "gross_income_by_city_se = income_tax(gross_income_by_city_se,to_display_se)"
   ]
  },
  {
   "cell_type": "code",
   "execution_count": 40,
   "id": "41bd15b7",
   "metadata": {},
   "outputs": [],
   "source": [
    "rental_gross_income = rental_income_tax(rental_adu.loc['Rental Apts'],assessed_value_category['rental_apts'])"
   ]
  },
  {
   "cell_type": "code",
   "execution_count": 41,
   "id": "17039c59",
   "metadata": {},
   "outputs": [],
   "source": [
    "adu_gross_income = adu_income_tax(rental_adu.loc['Accessory Dwelling Uint'],assessed_value_category['adus'])"
   ]
  },
  {
   "cell_type": "code",
   "execution_count": 42,
   "id": "98ab185a",
   "metadata": {},
   "outputs": [],
   "source": [
    "to_display = assessed_value_category['table_rural_west']\n",
    "rural_gross_income = gross_income.loc['Rural West'].tolist()\n",
    "rural_income_by_city = rural_income_tax(rural_gross_income,to_display)"
   ]
  },
  {
   "cell_type": "code",
   "execution_count": 43,
   "id": "10884ff9",
   "metadata": {},
   "outputs": [],
   "source": [
    "col = ['Area','2020','2021','Jan 2022','Feb 2022','March 2022','April 2022','May 2022','June 2022','July 2022','August 2022','Sept 2022','Oct 2022']"
   ]
  },
  {
   "cell_type": "code",
   "execution_count": 47,
   "id": "07c7cb9a",
   "metadata": {},
   "outputs": [],
   "source": [
    "import xlwings as xw"
   ]
  },
  {
   "cell_type": "code",
   "execution_count": 48,
   "id": "42d2511c",
   "metadata": {},
   "outputs": [],
   "source": [
    "ws = xw.Book('Pages from Construction Report October 2022.xlsx').sheets['Table 1']"
   ]
  },
  {
   "cell_type": "code",
   "execution_count": 49,
   "id": "e0b13c90",
   "metadata": {},
   "outputs": [],
   "source": [
    "table = ws.range(\"A3:M44\").value"
   ]
  },
  {
   "cell_type": "code",
   "execution_count": 50,
   "id": "db61574d",
   "metadata": {},
   "outputs": [],
   "source": [
    "table.insert(0,col)"
   ]
  },
  {
   "cell_type": "code",
   "execution_count": 51,
   "id": "dfa1624e",
   "metadata": {},
   "outputs": [],
   "source": [
    "table = pd.DataFrame(table)"
   ]
  },
  {
   "cell_type": "code",
   "execution_count": 52,
   "id": "9c86e7a7",
   "metadata": {},
   "outputs": [],
   "source": [
    "table.columns = table.iloc[0]"
   ]
  },
  {
   "cell_type": "code",
   "execution_count": 53,
   "id": "25505103",
   "metadata": {},
   "outputs": [],
   "source": [
    "table.drop(0, inplace=True)"
   ]
  },
  {
   "cell_type": "code",
   "execution_count": 56,
   "id": "0943e929",
   "metadata": {},
   "outputs": [],
   "source": [
    "elk_construction = table.iloc[1:4,12].astype(float)"
   ]
  },
  {
   "cell_type": "code",
   "execution_count": 58,
   "id": "e99d146e",
   "metadata": {},
   "outputs": [],
   "source": [
    "ec_construction = table.iloc[7:10,12].astype(float)"
   ]
  },
  {
   "cell_type": "code",
   "execution_count": 63,
   "id": "530fae9f",
   "metadata": {},
   "outputs": [],
   "source": [
    "rw_SFD = table.iloc[12,12]+table.iloc[17,12]+table.iloc[21,12]\n",
    "rw_SFA = table.iloc[13,12]+table.iloc[18,12]+table.iloc[22,12]\n",
    "rw_APT = table.iloc[14,12]+table.iloc[23,12]"
   ]
  },
  {
   "cell_type": "code",
   "execution_count": 68,
   "id": "fa0e632f",
   "metadata": {},
   "outputs": [],
   "source": [
    "rw_construction={'SFD': rw_SFD, 'SFA': rw_SFA, 'APT':rw_APT}"
   ]
  },
  {
   "cell_type": "code",
   "execution_count": 69,
   "id": "e42d641c",
   "metadata": {},
   "outputs": [],
   "source": [
    "col_construction = table.iloc[26:29,12].astype(float)"
   ]
  },
  {
   "cell_type": "code",
   "execution_count": 70,
   "id": "c8b28387",
   "metadata": {},
   "outputs": [],
   "source": [
    "sw_construction = table.iloc[31:34,12].astype(float)"
   ]
  },
  {
   "cell_type": "markdown",
   "id": "d026a575",
   "metadata": {},
   "source": [
    "\"${:,.2f}\".format(total)"
   ]
  },
  {
   "cell_type": "code",
   "execution_count": 271,
   "id": "4cda7b56",
   "metadata": {},
   "outputs": [],
   "source": [
    "table10 = tb.read_pdf('results.pdf',pages=2)"
   ]
  },
  {
   "cell_type": "code",
   "execution_count": 272,
   "id": "aa4b4565",
   "metadata": {
    "scrolled": true
   },
   "outputs": [],
   "source": [
    "projected_units=table10[0]"
   ]
  },
  {
   "cell_type": "code",
   "execution_count": 273,
   "id": "59aed154",
   "metadata": {},
   "outputs": [
    {
     "name": "stderr",
     "output_type": "stream",
     "text": [
      "/var/folders/tz/ntkg0c753tx3kzg7qnk4bxf00000gn/T/ipykernel_8973/2151504207.py:1: FutureWarning: In a future version, `df.iloc[:, i] = newvals` will attempt to set the values inplace instead of always setting a new array. To retain the old behavior, use either `df[df.columns[i]] = newvals` or, if columns are non-unique, `df.isetitem(i, newvals)`\n",
      "  projected_units.iloc[0:,1:]=projected_units.iloc[0:,1:].replace(',','',regex=True).astype(float)\n"
     ]
    }
   ],
   "source": [
    "projected_units.iloc[0:,1:]=projected_units.iloc[0:,1:].replace(',','',regex=True).astype(float)"
   ]
  },
  {
   "cell_type": "code",
   "execution_count": 274,
   "id": "a19fd5d4",
   "metadata": {
    "scrolled": true
   },
   "outputs": [],
   "source": [
    "projected_units.set_index('Unit Type', inplace=True)"
   ]
  },
  {
   "cell_type": "code",
   "execution_count": 275,
   "id": "742bcd71",
   "metadata": {},
   "outputs": [],
   "source": [
    "projected_units = projected_units.set_axis(['SFA', 'SFD', 'Condo_Apt','Rental_Apts', 'ADUs','Total'], axis=0)"
   ]
  },
  {
   "cell_type": "code",
   "execution_count": 276,
   "id": "0cc0bf37",
   "metadata": {},
   "outputs": [
    {
     "data": {
      "text/html": [
       "<div>\n",
       "<style scoped>\n",
       "    .dataframe tbody tr th:only-of-type {\n",
       "        vertical-align: middle;\n",
       "    }\n",
       "\n",
       "    .dataframe tbody tr th {\n",
       "        vertical-align: top;\n",
       "    }\n",
       "\n",
       "    .dataframe thead th {\n",
       "        text-align: right;\n",
       "    }\n",
       "</style>\n",
       "<table border=\"1\" class=\"dataframe\">\n",
       "  <thead>\n",
       "    <tr style=\"text-align: right;\">\n",
       "      <th></th>\n",
       "      <th>Columbia</th>\n",
       "      <th>Elkridge</th>\n",
       "      <th>Ellicott City</th>\n",
       "      <th>Rural West</th>\n",
       "      <th>Southeast</th>\n",
       "      <th>Total</th>\n",
       "    </tr>\n",
       "    <tr>\n",
       "      <th>Unit Type</th>\n",
       "      <th></th>\n",
       "      <th></th>\n",
       "      <th></th>\n",
       "      <th></th>\n",
       "      <th></th>\n",
       "      <th></th>\n",
       "    </tr>\n",
       "  </thead>\n",
       "  <tbody>\n",
       "    <tr>\n",
       "      <th>SFA</th>\n",
       "      <td>414.0</td>\n",
       "      <td>756.0</td>\n",
       "      <td>1026.0</td>\n",
       "      <td>1254.0</td>\n",
       "      <td>846.0</td>\n",
       "      <td>4296.0</td>\n",
       "    </tr>\n",
       "    <tr>\n",
       "      <th>SFD</th>\n",
       "      <td>1170.0</td>\n",
       "      <td>1602.0</td>\n",
       "      <td>1764.0</td>\n",
       "      <td>540.0</td>\n",
       "      <td>1035.0</td>\n",
       "      <td>6111.0</td>\n",
       "    </tr>\n",
       "    <tr>\n",
       "      <th>Condo_Apt</th>\n",
       "      <td>792.0</td>\n",
       "      <td>486.0</td>\n",
       "      <td>450.0</td>\n",
       "      <td>0.0</td>\n",
       "      <td>324.0</td>\n",
       "      <td>2052.0</td>\n",
       "    </tr>\n",
       "    <tr>\n",
       "      <th>Rental_Apts</th>\n",
       "      <td>7133.0</td>\n",
       "      <td>1908.0</td>\n",
       "      <td>1764.0</td>\n",
       "      <td>0.0</td>\n",
       "      <td>1268.0</td>\n",
       "      <td>12073.0</td>\n",
       "    </tr>\n",
       "    <tr>\n",
       "      <th>ADUs</th>\n",
       "      <td>108.0</td>\n",
       "      <td>54.0</td>\n",
       "      <td>270.0</td>\n",
       "      <td>0.0</td>\n",
       "      <td>36.0</td>\n",
       "      <td>468.0</td>\n",
       "    </tr>\n",
       "    <tr>\n",
       "      <th>Total</th>\n",
       "      <td>9617.0</td>\n",
       "      <td>4806.0</td>\n",
       "      <td>5274.0</td>\n",
       "      <td>1794.0</td>\n",
       "      <td>3509.0</td>\n",
       "      <td>25000.0</td>\n",
       "    </tr>\n",
       "  </tbody>\n",
       "</table>\n",
       "</div>"
      ],
      "text/plain": [
       "             Columbia  Elkridge  Ellicott City  Rural West  Southeast    Total\n",
       "Unit Type                                                                     \n",
       "SFA             414.0     756.0         1026.0      1254.0      846.0   4296.0\n",
       "SFD            1170.0    1602.0         1764.0       540.0     1035.0   6111.0\n",
       "Condo_Apt       792.0     486.0          450.0         0.0      324.0   2052.0\n",
       "Rental_Apts    7133.0    1908.0         1764.0         0.0     1268.0  12073.0\n",
       "ADUs            108.0      54.0          270.0         0.0       36.0    468.0\n",
       "Total          9617.0    4806.0         5274.0      1794.0     3509.0  25000.0"
      ]
     },
     "execution_count": 276,
     "metadata": {},
     "output_type": "execute_result"
    }
   ],
   "source": [
    "projected_units.index.name='Unit Type'\n",
    "projected_units"
   ]
  },
  {
   "cell_type": "code",
   "execution_count": 277,
   "id": "f25674f8",
   "metadata": {},
   "outputs": [],
   "source": [
    "year1=2023\n",
    "years = [year1+x for x in range(18)]\n",
    "# years.insert(19,'Total')"
   ]
  },
  {
   "cell_type": "code",
   "execution_count": 278,
   "id": "14096b03",
   "metadata": {},
   "outputs": [],
   "source": [
    "empty_table = pd.DataFrame(columns=years, index=projected_units.index.to_list()[0:5])"
   ]
  },
  {
   "cell_type": "code",
   "execution_count": 352,
   "id": "5fe13453",
   "metadata": {
    "scrolled": true
   },
   "outputs": [],
   "source": [
    "plan_areas = {}\n",
    "a=0\n",
    "inc = 18\n",
    "for a in projected_units.columns.to_list()[:-1]:\n",
    "    for i in projected_units.index.to_list()[0:5]:\n",
    "        empty_table.loc[i]=projected_units.loc[i, a]/inc\n",
    "    plan_areas[a]=empty_table\n",
    "    empty_table = pd.DataFrame(columns=years, index=projected_units.index.to_list()[0:5])"
   ]
  },
  {
   "cell_type": "code",
   "execution_count": 353,
   "id": "d90c93bd",
   "metadata": {
    "scrolled": true
   },
   "outputs": [
    {
     "data": {
      "text/plain": [
       "{'Columbia':                    2023        2024        2025        2026        2027  \\\n",
       " SFA                23.0        23.0        23.0        23.0        23.0   \n",
       " SFD                65.0        65.0        65.0        65.0        65.0   \n",
       " Condo_Apt          44.0        44.0        44.0        44.0        44.0   \n",
       " Rental_Apts  396.277778  396.277778  396.277778  396.277778  396.277778   \n",
       " ADUs                6.0         6.0         6.0         6.0         6.0   \n",
       " \n",
       "                    2028        2029        2030        2031        2032  \\\n",
       " SFA                23.0        23.0        23.0        23.0        23.0   \n",
       " SFD                65.0        65.0        65.0        65.0        65.0   \n",
       " Condo_Apt          44.0        44.0        44.0        44.0        44.0   \n",
       " Rental_Apts  396.277778  396.277778  396.277778  396.277778  396.277778   \n",
       " ADUs                6.0         6.0         6.0         6.0         6.0   \n",
       " \n",
       "                    2033        2034        2035        2036        2037  \\\n",
       " SFA                23.0        23.0        23.0        23.0        23.0   \n",
       " SFD                65.0        65.0        65.0        65.0        65.0   \n",
       " Condo_Apt          44.0        44.0        44.0        44.0        44.0   \n",
       " Rental_Apts  396.277778  396.277778  396.277778  396.277778  396.277778   \n",
       " ADUs                6.0         6.0         6.0         6.0         6.0   \n",
       " \n",
       "                    2038        2039        2040  \n",
       " SFA                23.0        23.0        23.0  \n",
       " SFD                65.0        65.0        65.0  \n",
       " Condo_Apt          44.0        44.0        44.0  \n",
       " Rental_Apts  396.277778  396.277778  396.277778  \n",
       " ADUs                6.0         6.0         6.0  ,\n",
       " 'Elkridge':               2023   2024   2025   2026   2027   2028   2029   2030   2031  \\\n",
       " SFA           42.0   42.0   42.0   42.0   42.0   42.0   42.0   42.0   42.0   \n",
       " SFD           89.0   89.0   89.0   89.0   89.0   89.0   89.0   89.0   89.0   \n",
       " Condo_Apt     27.0   27.0   27.0   27.0   27.0   27.0   27.0   27.0   27.0   \n",
       " Rental_Apts  106.0  106.0  106.0  106.0  106.0  106.0  106.0  106.0  106.0   \n",
       " ADUs           3.0    3.0    3.0    3.0    3.0    3.0    3.0    3.0    3.0   \n",
       " \n",
       "               2032   2033   2034   2035   2036   2037   2038   2039   2040  \n",
       " SFA           42.0   42.0   42.0   42.0   42.0   42.0   42.0   42.0   42.0  \n",
       " SFD           89.0   89.0   89.0   89.0   89.0   89.0   89.0   89.0   89.0  \n",
       " Condo_Apt     27.0   27.0   27.0   27.0   27.0   27.0   27.0   27.0   27.0  \n",
       " Rental_Apts  106.0  106.0  106.0  106.0  106.0  106.0  106.0  106.0  106.0  \n",
       " ADUs           3.0    3.0    3.0    3.0    3.0    3.0    3.0    3.0    3.0  ,\n",
       " 'Ellicott City':              2023  2024  2025  2026  2027  2028  2029  2030  2031  2032  2033  \\\n",
       " SFA          57.0  57.0  57.0  57.0  57.0  57.0  57.0  57.0  57.0  57.0  57.0   \n",
       " SFD          98.0  98.0  98.0  98.0  98.0  98.0  98.0  98.0  98.0  98.0  98.0   \n",
       " Condo_Apt    25.0  25.0  25.0  25.0  25.0  25.0  25.0  25.0  25.0  25.0  25.0   \n",
       " Rental_Apts  98.0  98.0  98.0  98.0  98.0  98.0  98.0  98.0  98.0  98.0  98.0   \n",
       " ADUs         15.0  15.0  15.0  15.0  15.0  15.0  15.0  15.0  15.0  15.0  15.0   \n",
       " \n",
       "              2034  2035  2036  2037  2038  2039  2040  \n",
       " SFA          57.0  57.0  57.0  57.0  57.0  57.0  57.0  \n",
       " SFD          98.0  98.0  98.0  98.0  98.0  98.0  98.0  \n",
       " Condo_Apt    25.0  25.0  25.0  25.0  25.0  25.0  25.0  \n",
       " Rental_Apts  98.0  98.0  98.0  98.0  98.0  98.0  98.0  \n",
       " ADUs         15.0  15.0  15.0  15.0  15.0  15.0  15.0  ,\n",
       " 'Rural West':                   2023       2024       2025       2026       2027       2028  \\\n",
       " SFA          69.666667  69.666667  69.666667  69.666667  69.666667  69.666667   \n",
       " SFD               30.0       30.0       30.0       30.0       30.0       30.0   \n",
       " Condo_Apt          0.0        0.0        0.0        0.0        0.0        0.0   \n",
       " Rental_Apts        0.0        0.0        0.0        0.0        0.0        0.0   \n",
       " ADUs               0.0        0.0        0.0        0.0        0.0        0.0   \n",
       " \n",
       "                   2029       2030       2031       2032       2033       2034  \\\n",
       " SFA          69.666667  69.666667  69.666667  69.666667  69.666667  69.666667   \n",
       " SFD               30.0       30.0       30.0       30.0       30.0       30.0   \n",
       " Condo_Apt          0.0        0.0        0.0        0.0        0.0        0.0   \n",
       " Rental_Apts        0.0        0.0        0.0        0.0        0.0        0.0   \n",
       " ADUs               0.0        0.0        0.0        0.0        0.0        0.0   \n",
       " \n",
       "                   2035       2036       2037       2038       2039       2040  \n",
       " SFA          69.666667  69.666667  69.666667  69.666667  69.666667  69.666667  \n",
       " SFD               30.0       30.0       30.0       30.0       30.0       30.0  \n",
       " Condo_Apt          0.0        0.0        0.0        0.0        0.0        0.0  \n",
       " Rental_Apts        0.0        0.0        0.0        0.0        0.0        0.0  \n",
       " ADUs               0.0        0.0        0.0        0.0        0.0        0.0  ,\n",
       " 'Southeast':                   2023       2024       2025       2026       2027       2028  \\\n",
       " SFA               47.0       47.0       47.0       47.0       47.0       47.0   \n",
       " SFD               57.5       57.5       57.5       57.5       57.5       57.5   \n",
       " Condo_Apt         18.0       18.0       18.0       18.0       18.0       18.0   \n",
       " Rental_Apts  70.444444  70.444444  70.444444  70.444444  70.444444  70.444444   \n",
       " ADUs               2.0        2.0        2.0        2.0        2.0        2.0   \n",
       " \n",
       "                   2029       2030       2031       2032       2033       2034  \\\n",
       " SFA               47.0       47.0       47.0       47.0       47.0       47.0   \n",
       " SFD               57.5       57.5       57.5       57.5       57.5       57.5   \n",
       " Condo_Apt         18.0       18.0       18.0       18.0       18.0       18.0   \n",
       " Rental_Apts  70.444444  70.444444  70.444444  70.444444  70.444444  70.444444   \n",
       " ADUs               2.0        2.0        2.0        2.0        2.0        2.0   \n",
       " \n",
       "                   2035       2036       2037       2038       2039       2040  \n",
       " SFA               47.0       47.0       47.0       47.0       47.0       47.0  \n",
       " SFD               57.5       57.5       57.5       57.5       57.5       57.5  \n",
       " Condo_Apt         18.0       18.0       18.0       18.0       18.0       18.0  \n",
       " Rental_Apts  70.444444  70.444444  70.444444  70.444444  70.444444  70.444444  \n",
       " ADUs               2.0        2.0        2.0        2.0        2.0        2.0  }"
      ]
     },
     "execution_count": 353,
     "metadata": {},
     "output_type": "execute_result"
    }
   ],
   "source": [
    "plan_areas"
   ]
  },
  {
   "cell_type": "markdown",
   "id": "6cf2e079",
   "metadata": {},
   "source": [
    "------"
   ]
  },
  {
   "cell_type": "code",
   "execution_count": 394,
   "id": "eb6d186d",
   "metadata": {},
   "outputs": [],
   "source": [
    "table11=tb.read_pdf('results.pdf',pages=3)\n",
    "table11_1 = table11[0].drop(columns='Job Type')\n",
    "table11_1=table11_1.rename(columns={'Unnamed: 0':'Job Type'})\n",
    "table11_1=table11_1.set_index('Job Type')\n",
    "table11_1 = table11_1.replace(',',\"\", regex=True).astype(float)"
   ]
  },
  {
   "cell_type": "markdown",
   "id": "4cdcef36",
   "metadata": {},
   "source": [
    "# Columbia\n",
    "### Property Tax"
   ]
  },
  {
   "cell_type": "code",
   "execution_count": 395,
   "id": "0dd2bf83",
   "metadata": {},
   "outputs": [
    {
     "data": {
      "text/plain": [
       "Category\n",
       "Single Family Detached                        859639.72\n",
       "Single Family Attached                        592397.20\n",
       "Condo Apartment                               342700.00\n",
       "Rental Apartment (From Income Cap. Method)    352723.40\n",
       "Accessory Dwelling Unit                       230000.00\n",
       "Name: Assessed Value Per unit, dtype: float64"
      ]
     },
     "execution_count": 395,
     "metadata": {},
     "output_type": "execute_result"
    }
   ],
   "source": [
    "col_assessment = pd.concat([assessed_value_category['table_columbia'],\\\n",
    "                            assessed_value_category['rental_apts'],\\\n",
    "                            assessed_value_category['adus']]).set_index('Category')\n",
    "col_assessment['Assessed Value Per unit']"
   ]
  },
  {
   "cell_type": "code",
   "execution_count": 396,
   "id": "6633a416",
   "metadata": {},
   "outputs": [
    {
     "data": {
      "text/plain": [
       "array([ 23.        ,  65.        ,  44.        , 396.27777778,\n",
       "         6.        ])"
      ]
     },
     "execution_count": 396,
     "metadata": {},
     "output_type": "execute_result"
    }
   ],
   "source": [
    "col_plan = plan_areas['Columbia'].astype(float)\n",
    "col_plan[2023].values"
   ]
  },
  {
   "cell_type": "code",
   "execution_count": 397,
   "id": "dcc4d50f",
   "metadata": {},
   "outputs": [
    {
     "data": {
      "text/plain": [
       "3266914.517535423"
      ]
     },
     "execution_count": 397,
     "metadata": {},
     "output_type": "execute_result"
    }
   ],
   "source": [
    "col_real_prop_taxes = ((col_assessment['Assessed Value Per unit'].values*col_plan[2023].values)*(1.014+0.112+.236+.08)/100+(col_plan[2023]*325)).sum()\n",
    "col_real_prop_taxes"
   ]
  },
  {
   "cell_type": "code",
   "execution_count": 398,
   "id": "ea555caa",
   "metadata": {},
   "outputs": [],
   "source": [
    "personal_merchent_col = table11_1.loc['TOTAL','Columbia']/19*204.64"
   ]
  },
  {
   "cell_type": "code",
   "execution_count": 399,
   "id": "2ddf8ac5",
   "metadata": {},
   "outputs": [],
   "source": [
    "penalites_col = col_real_prop_taxes * 0.12/100"
   ]
  },
  {
   "cell_type": "code",
   "execution_count": 400,
   "id": "7a5c84ae",
   "metadata": {},
   "outputs": [
    {
     "data": {
      "text/plain": [
       "3511717.6360090966"
      ]
     },
     "execution_count": 400,
     "metadata": {},
     "output_type": "execute_result"
    }
   ],
   "source": [
    "prop_tax_col = col_real_prop_taxes + personal_merchent_col + penalites_col\n",
    "prop_tax_col"
   ]
  },
  {
   "cell_type": "markdown",
   "id": "e6694f27",
   "metadata": {},
   "source": [
    "# Elkridge\n",
    "### Property Tax"
   ]
  },
  {
   "cell_type": "code",
   "execution_count": 361,
   "id": "e9da90e8",
   "metadata": {},
   "outputs": [
    {
     "data": {
      "text/plain": [
       "Category\n",
       "Single Family Detached                        596308.12\n",
       "Single Family Attached                        443288.20\n",
       "Condo Apartment                               376402.36\n",
       "Rental Apartment (From Income Cap. Method)    352723.40\n",
       "Accessory Dwelling Unit                       230000.00\n",
       "Name: Assessed Value Per unit, dtype: float64"
      ]
     },
     "execution_count": 361,
     "metadata": {},
     "output_type": "execute_result"
    }
   ],
   "source": [
    "elk_assessment = pd.concat([assessed_value_category['table_elkridge'],\\\n",
    "                            assessed_value_category['rental_apts'],\\\n",
    "                            assessed_value_category['adus']]).set_index('Category')\n",
    "elk_assessment['Assessed Value Per unit']"
   ]
  },
  {
   "cell_type": "code",
   "execution_count": 362,
   "id": "bd06bd9f",
   "metadata": {},
   "outputs": [
    {
     "data": {
      "text/plain": [
       "array([ 42.,  89.,  27., 106.,   3.])"
      ]
     },
     "execution_count": 362,
     "metadata": {},
     "output_type": "execute_result"
    }
   ],
   "source": [
    "elk_plan = plan_areas['Elkridge'].astype(float)\n",
    "elk_plan[2023].values"
   ]
  },
  {
   "cell_type": "code",
   "execution_count": 363,
   "id": "5a421e7f",
   "metadata": {},
   "outputs": [
    {
     "data": {
      "text/plain": [
       "1143174.8284944"
      ]
     },
     "execution_count": 363,
     "metadata": {},
     "output_type": "execute_result"
    }
   ],
   "source": [
    "col_real_prop_taxes = ((col_assessment['Assessed Value Per unit'].values*col_plan[2023].values)*(1.014+0.112+.236+.08)/100+(col_plan[2023]*325)).sum()\n",
    "col_real_prop_taxes"
   ]
  },
  {
   "cell_type": "code",
   "execution_count": 364,
   "id": "1dab0edc",
   "metadata": {},
   "outputs": [],
   "source": [
    "personal_merchent_elk = table11_1.loc['TOTAL','Elkridge']/19*204.64"
   ]
  },
  {
   "cell_type": "code",
   "execution_count": 365,
   "id": "7bc5bd5e",
   "metadata": {},
   "outputs": [],
   "source": [
    "penalites_elk = elk_real_prop_taxes * 0.12/100"
   ]
  },
  {
   "cell_type": "code",
   "execution_count": 366,
   "id": "3bb81457",
   "metadata": {},
   "outputs": [
    {
     "data": {
      "text/plain": [
       "1181187.9688149092"
      ]
     },
     "execution_count": 366,
     "metadata": {},
     "output_type": "execute_result"
    }
   ],
   "source": [
    "prop_tax_elk = elk_real_prop_taxes+personal_merchent_elk+penalites_elk\n",
    "prop_tax_elk"
   ]
  },
  {
   "cell_type": "markdown",
   "id": "7aeb113f",
   "metadata": {},
   "source": [
    "# Ellicott City\n",
    "### Property Tax"
   ]
  },
  {
   "cell_type": "code",
   "execution_count": 367,
   "id": "c7858109",
   "metadata": {},
   "outputs": [
    {
     "data": {
      "text/plain": [
       "Category\n",
       "Single Family Detached                        854383.76\n",
       "Single Family Attached                        638334.64\n",
       "Condo Apartment                               344701.92\n",
       "Rental Apartment (From Income Cap. Method)    352723.40\n",
       "Accessory Dwelling Unit                       230000.00\n",
       "Name: Assessed Value Per unit, dtype: float64"
      ]
     },
     "execution_count": 367,
     "metadata": {},
     "output_type": "execute_result"
    }
   ],
   "source": [
    "ec_assessment = pd.concat([assessed_value_category['table_ellicott_city'],\\\n",
    "                            assessed_value_category['rental_apts'],\\\n",
    "                            assessed_value_category['adus']]).set_index('Category')\n",
    "ec_assessment['Assessed Value Per unit']"
   ]
  },
  {
   "cell_type": "code",
   "execution_count": 368,
   "id": "f7db95dc",
   "metadata": {},
   "outputs": [
    {
     "data": {
      "text/plain": [
       "array([57., 98., 25., 98., 15.])"
      ]
     },
     "execution_count": 368,
     "metadata": {},
     "output_type": "execute_result"
    }
   ],
   "source": [
    "ec_plan = plan_areas['Ellicott City'].astype(float)\n",
    "ec_plan[2023].values"
   ]
  },
  {
   "cell_type": "code",
   "execution_count": 369,
   "id": "d24e9c8a",
   "metadata": {},
   "outputs": [
    {
     "data": {
      "text/plain": [
       "1601015.8578336001"
      ]
     },
     "execution_count": 369,
     "metadata": {},
     "output_type": "execute_result"
    }
   ],
   "source": [
    "ec_real_prop_taxes = ((ec_assessment['Assessed Value Per unit'].values*ec_plan[2023].values).sum())*((1.014+0.112+.236+.08)/100+325)\n",
    "ec_real_prop_taxes"
   ]
  },
  {
   "cell_type": "code",
   "execution_count": 370,
   "id": "497189c0",
   "metadata": {},
   "outputs": [],
   "source": [
    "personal_merchent_ec = table11_1.loc['TOTAL','Ellicott City']/19*204.64"
   ]
  },
  {
   "cell_type": "code",
   "execution_count": 371,
   "id": "b3f8e7ad",
   "metadata": {},
   "outputs": [],
   "source": [
    "penalites_ec = ec_real_prop_taxes * 0.12/100"
   ]
  },
  {
   "cell_type": "code",
   "execution_count": 372,
   "id": "a3bb9e29",
   "metadata": {},
   "outputs": [
    {
     "data": {
      "text/plain": [
       "1624564.2937051055"
      ]
     },
     "execution_count": 372,
     "metadata": {},
     "output_type": "execute_result"
    }
   ],
   "source": [
    "prop_tax_ec = ec_real_prop_taxes+personal_merchent_ec+penalites_ec\n",
    "prop_tax_ec"
   ]
  },
  {
   "cell_type": "code",
   "execution_count": 373,
   "id": "3e5ae28d",
   "metadata": {},
   "outputs": [
    {
     "data": {
      "text/html": [
       "<div>\n",
       "<style scoped>\n",
       "    .dataframe tbody tr th:only-of-type {\n",
       "        vertical-align: middle;\n",
       "    }\n",
       "\n",
       "    .dataframe tbody tr th {\n",
       "        vertical-align: top;\n",
       "    }\n",
       "\n",
       "    .dataframe thead th {\n",
       "        text-align: right;\n",
       "    }\n",
       "</style>\n",
       "<table border=\"1\" class=\"dataframe\">\n",
       "  <thead>\n",
       "    <tr style=\"text-align: right;\">\n",
       "      <th></th>\n",
       "      <th>Category</th>\n",
       "      <th>Market Value Per unit</th>\n",
       "      <th>Assessed Value Ratio</th>\n",
       "      <th>Assessed Value Per unit</th>\n",
       "    </tr>\n",
       "  </thead>\n",
       "  <tbody>\n",
       "    <tr>\n",
       "      <th>1</th>\n",
       "      <td>Single Family Attached</td>\n",
       "      <td>693842.0</td>\n",
       "      <td>0.92</td>\n",
       "      <td>638334.64</td>\n",
       "    </tr>\n",
       "  </tbody>\n",
       "</table>\n",
       "</div>"
      ],
      "text/plain": [
       "                 Category Market Value Per unit Assessed Value Ratio  \\\n",
       "1  Single Family Attached              693842.0                 0.92   \n",
       "\n",
       "  Assessed Value Per unit  \n",
       "1               638334.64  "
      ]
     },
     "execution_count": 373,
     "metadata": {},
     "output_type": "execute_result"
    }
   ],
   "source": [
    "pd.DataFrame(assessed_value_category['table_ellicott_city'].loc[1]).T"
   ]
  },
  {
   "cell_type": "markdown",
   "id": "f8a38067",
   "metadata": {},
   "source": [
    "# Rural West\n",
    "### Property Tax"
   ]
  },
  {
   "cell_type": "code",
   "execution_count": 374,
   "id": "848ef068",
   "metadata": {},
   "outputs": [
    {
     "data": {
      "text/plain": [
       "0    1080954.0\n",
       "1    638334.64\n",
       "Name: Assessed Value Per unit, dtype: object"
      ]
     },
     "execution_count": 374,
     "metadata": {},
     "output_type": "execute_result"
    }
   ],
   "source": [
    "rw_assessment = pd.concat([assessed_value_category['table_rural_west'],\\\n",
    "                            pd.DataFrame(assessed_value_category['table_ellicott_city'].loc[1]).T])\n",
    "rw_assessment['Assessed Value Per unit']"
   ]
  },
  {
   "cell_type": "code",
   "execution_count": 375,
   "id": "11927244",
   "metadata": {},
   "outputs": [
    {
     "data": {
      "text/plain": [
       "array([69.66666667, 30.        ])"
      ]
     },
     "execution_count": 375,
     "metadata": {},
     "output_type": "execute_result"
    }
   ],
   "source": [
    "rw_plan = plan_areas['Rural West'].astype(float)\n",
    "rw_plan[2023].values[:2]"
   ]
  },
  {
   "cell_type": "code",
   "execution_count": 376,
   "id": "f03866c0",
   "metadata": {},
   "outputs": [
    {
     "data": {
      "text/plain": [
       "957788.922168"
      ]
     },
     "execution_count": 376,
     "metadata": {},
     "output_type": "execute_result"
    }
   ],
   "source": [
    "rw_real_prop_taxes = ((rw_assessment['Assessed Value Per unit'].values*rw_plan[2023].values[:2]).sum())*1.014/100\n",
    "rw_real_prop_taxes"
   ]
  },
  {
   "cell_type": "code",
   "execution_count": 377,
   "id": "7e05593c",
   "metadata": {},
   "outputs": [],
   "source": [
    "personal_merchent_rw = table11_1.loc['TOTAL','Rural West']*204.64/19"
   ]
  },
  {
   "cell_type": "code",
   "execution_count": 378,
   "id": "7c9dfbeb",
   "metadata": {},
   "outputs": [],
   "source": [
    "penalites_rw = rw_real_prop_taxes * 0.12/100"
   ]
  },
  {
   "cell_type": "code",
   "execution_count": 379,
   "id": "cabbb78d",
   "metadata": {},
   "outputs": [
    {
     "data": {
      "text/plain": [
       "969601.0899272332"
      ]
     },
     "execution_count": 379,
     "metadata": {},
     "output_type": "execute_result"
    }
   ],
   "source": [
    "prop_tax_rw = rw_real_prop_taxes+personal_merchent_rw+penalites_rw\n",
    "prop_tax_rw"
   ]
  },
  {
   "cell_type": "markdown",
   "id": "cf16625a",
   "metadata": {},
   "source": [
    "# South East\n",
    "### Property Tax"
   ]
  },
  {
   "cell_type": "code",
   "execution_count": 380,
   "id": "b6a4e828",
   "metadata": {},
   "outputs": [
    {
     "data": {
      "text/plain": [
       "Category\n",
       "Single Family Detached                        786376.44\n",
       "Single Family Attached                        451409.04\n",
       "Condo Apartment                               315414.64\n",
       "Rental Apartment (From Income Cap. Method)    352723.40\n",
       "Accessory Dwelling Unit                       230000.00\n",
       "Name: Assessed Value Per unit, dtype: float64"
      ]
     },
     "execution_count": 380,
     "metadata": {},
     "output_type": "execute_result"
    }
   ],
   "source": [
    "se_assessment = pd.concat([assessed_value_category['table_south_east'],\\\n",
    "                            assessed_value_category['rental_apts'],\\\n",
    "                            assessed_value_category['adus']]).set_index('Category')\n",
    "se_assessment['Assessed Value Per unit']"
   ]
  },
  {
   "cell_type": "code",
   "execution_count": 381,
   "id": "4322cca6",
   "metadata": {},
   "outputs": [
    {
     "data": {
      "text/plain": [
       "array([47.        , 57.5       , 18.        , 70.44444444,  2.        ])"
      ]
     },
     "execution_count": 381,
     "metadata": {},
     "output_type": "execute_result"
    }
   ],
   "source": [
    "se_plan = plan_areas['Southeast'].astype(float)\n",
    "se_plan[2023].values"
   ]
  },
  {
   "cell_type": "code",
   "execution_count": 382,
   "id": "aa4a44c9",
   "metadata": {},
   "outputs": [
    {
     "data": {
      "text/plain": [
       "952151.8807493333"
      ]
     },
     "execution_count": 382,
     "metadata": {},
     "output_type": "execute_result"
    }
   ],
   "source": [
    "se_real_prop_taxes = ((se_assessment['Assessed Value Per unit'].values*se_plan[2023].values).sum())*1.014/100\n",
    "se_real_prop_taxes"
   ]
  },
  {
   "cell_type": "code",
   "execution_count": 383,
   "id": "ab5a23f6",
   "metadata": {},
   "outputs": [],
   "source": [
    "personal_merchent_se = table11_1.loc['TOTAL','Southeast']/19*204.64"
   ]
  },
  {
   "cell_type": "code",
   "execution_count": 384,
   "id": "a57ebbbb",
   "metadata": {},
   "outputs": [],
   "source": [
    "penalites_se = se_real_prop_taxes * 0.12/100"
   ]
  },
  {
   "cell_type": "code",
   "execution_count": 385,
   "id": "d09f199d",
   "metadata": {},
   "outputs": [
    {
     "data": {
      "text/plain": [
       "982751.8524799168"
      ]
     },
     "execution_count": 385,
     "metadata": {},
     "output_type": "execute_result"
    }
   ],
   "source": [
    "prop_tax_se = se_real_prop_taxes+personal_merchent_se+penalites_se\n",
    "prop_tax_se"
   ]
  },
  {
   "cell_type": "code",
   "execution_count": 386,
   "id": "bbc11923",
   "metadata": {},
   "outputs": [
    {
     "data": {
      "text/plain": [
       "7176757.773004198"
      ]
     },
     "execution_count": 386,
     "metadata": {},
     "output_type": "execute_result"
    }
   ],
   "source": [
    "property_taxes = prop_tax_col+prop_tax_ec+prop_tax_elk+prop_tax_rw+prop_tax_se\n",
    "property_taxes"
   ]
  },
  {
   "cell_type": "code",
   "execution_count": 401,
   "id": "f1e32567",
   "metadata": {},
   "outputs": [
    {
     "data": {
      "text/plain": [
       "3399667.445829"
      ]
     },
     "execution_count": 401,
     "metadata": {},
     "output_type": "execute_result"
    }
   ],
   "source": [
    "955944.148963+584632.029608+885124.054335+468309.365333+505657.84759"
   ]
  },
  {
   "cell_type": "code",
   "execution_count": 402,
   "id": "2b56fd47",
   "metadata": {},
   "outputs": [],
   "source": [
    "table2 = tb.read_pdf('hocobydesign.pdf',pages=7)"
   ]
  },
  {
   "cell_type": "code",
   "execution_count": 411,
   "id": "bff8b666",
   "metadata": {},
   "outputs": [],
   "source": [
    "table2[0].loc[19.5]= ['Single Family Attached', 0, 0, 0]"
   ]
  },
  {
   "cell_type": "code",
   "execution_count": 413,
   "id": "c48e8605",
   "metadata": {},
   "outputs": [],
   "source": [
    "table2[0].loc[19.6] = ['Condo Apartment', 0, 0, 0]"
   ]
  },
  {
   "cell_type": "code",
   "execution_count": 414,
   "id": "7dde3709",
   "metadata": {},
   "outputs": [],
   "source": [
    "table2[0] = table2[0].sort_index().reset_index(drop=True)"
   ]
  },
  {
   "cell_type": "code",
   "execution_count": 415,
   "id": "768a39e3",
   "metadata": {},
   "outputs": [
    {
     "data": {
      "text/html": [
       "<div>\n",
       "<style scoped>\n",
       "    .dataframe tbody tr th:only-of-type {\n",
       "        vertical-align: middle;\n",
       "    }\n",
       "\n",
       "    .dataframe tbody tr th {\n",
       "        vertical-align: top;\n",
       "    }\n",
       "\n",
       "    .dataframe thead th {\n",
       "        text-align: right;\n",
       "    }\n",
       "</style>\n",
       "<table border=\"1\" class=\"dataframe\">\n",
       "  <thead>\n",
       "    <tr style=\"text-align: right;\">\n",
       "      <th></th>\n",
       "      <th>Unnamed: 0</th>\n",
       "      <th>Market</th>\n",
       "      <th>Assessed</th>\n",
       "      <th>Assessed.1</th>\n",
       "    </tr>\n",
       "  </thead>\n",
       "  <tbody>\n",
       "    <tr>\n",
       "      <th>0</th>\n",
       "      <td>NaN</td>\n",
       "      <td>Values</td>\n",
       "      <td>Value</td>\n",
       "      <td>Values</td>\n",
       "    </tr>\n",
       "    <tr>\n",
       "      <th>1</th>\n",
       "      <td>CATEGORY</td>\n",
       "      <td>(per unit)</td>\n",
       "      <td>Ratio (1)</td>\n",
       "      <td>(per unit)</td>\n",
       "    </tr>\n",
       "    <tr>\n",
       "      <th>2</th>\n",
       "      <td>Residential Units (2)</td>\n",
       "      <td>NaN</td>\n",
       "      <td>NaN</td>\n",
       "      <td>NaN</td>\n",
       "    </tr>\n",
       "    <tr>\n",
       "      <th>3</th>\n",
       "      <td>Columbia</td>\n",
       "      <td>NaN</td>\n",
       "      <td>NaN</td>\n",
       "      <td>NaN</td>\n",
       "    </tr>\n",
       "    <tr>\n",
       "      <th>4</th>\n",
       "      <td>Single Family Detached</td>\n",
       "      <td>$934,391</td>\n",
       "      <td>92%</td>\n",
       "      <td>$859,640</td>\n",
       "    </tr>\n",
       "    <tr>\n",
       "      <th>5</th>\n",
       "      <td>Single Family Attached</td>\n",
       "      <td>$643,910</td>\n",
       "      <td>92%</td>\n",
       "      <td>$592,397</td>\n",
       "    </tr>\n",
       "    <tr>\n",
       "      <th>6</th>\n",
       "      <td>Condo Apartment</td>\n",
       "      <td>$372,500</td>\n",
       "      <td>92%</td>\n",
       "      <td>$342,700</td>\n",
       "    </tr>\n",
       "    <tr>\n",
       "      <th>7</th>\n",
       "      <td>Accessory Dwelling Unit</td>\n",
       "      <td>$250,000</td>\n",
       "      <td>92%</td>\n",
       "      <td>$230,000</td>\n",
       "    </tr>\n",
       "    <tr>\n",
       "      <th>8</th>\n",
       "      <td>Elkridge</td>\n",
       "      <td>NaN</td>\n",
       "      <td>NaN</td>\n",
       "      <td>NaN</td>\n",
       "    </tr>\n",
       "    <tr>\n",
       "      <th>9</th>\n",
       "      <td>Single Family Detached</td>\n",
       "      <td>$648,161</td>\n",
       "      <td>92%</td>\n",
       "      <td>$596,308</td>\n",
       "    </tr>\n",
       "    <tr>\n",
       "      <th>10</th>\n",
       "      <td>Single Family Attached</td>\n",
       "      <td>$481,835</td>\n",
       "      <td>92%</td>\n",
       "      <td>$443,288</td>\n",
       "    </tr>\n",
       "    <tr>\n",
       "      <th>11</th>\n",
       "      <td>Condo Apartment</td>\n",
       "      <td>$409,133</td>\n",
       "      <td>92%</td>\n",
       "      <td>$376,402</td>\n",
       "    </tr>\n",
       "    <tr>\n",
       "      <th>12</th>\n",
       "      <td>Accessory Dwelling Unit</td>\n",
       "      <td>$250,000</td>\n",
       "      <td>92%</td>\n",
       "      <td>$230,000</td>\n",
       "    </tr>\n",
       "    <tr>\n",
       "      <th>13</th>\n",
       "      <td>Ellicott City</td>\n",
       "      <td>NaN</td>\n",
       "      <td>NaN</td>\n",
       "      <td>NaN</td>\n",
       "    </tr>\n",
       "    <tr>\n",
       "      <th>14</th>\n",
       "      <td>Single Family Detached</td>\n",
       "      <td>$928,678</td>\n",
       "      <td>92%</td>\n",
       "      <td>$854,384</td>\n",
       "    </tr>\n",
       "    <tr>\n",
       "      <th>15</th>\n",
       "      <td>Single Family Attached</td>\n",
       "      <td>$693,842</td>\n",
       "      <td>92%</td>\n",
       "      <td>$638,335</td>\n",
       "    </tr>\n",
       "    <tr>\n",
       "      <th>16</th>\n",
       "      <td>Condo Apartment</td>\n",
       "      <td>$374,676</td>\n",
       "      <td>92%</td>\n",
       "      <td>$344,702</td>\n",
       "    </tr>\n",
       "    <tr>\n",
       "      <th>17</th>\n",
       "      <td>Accessory Dwelling Unit</td>\n",
       "      <td>$250,000</td>\n",
       "      <td>92%</td>\n",
       "      <td>$230,000</td>\n",
       "    </tr>\n",
       "    <tr>\n",
       "      <th>18</th>\n",
       "      <td>Rural West</td>\n",
       "      <td>NaN</td>\n",
       "      <td>NaN</td>\n",
       "      <td>NaN</td>\n",
       "    </tr>\n",
       "    <tr>\n",
       "      <th>19</th>\n",
       "      <td>Single Family Detached</td>\n",
       "      <td>$1,174,950</td>\n",
       "      <td>92%</td>\n",
       "      <td>$1,080,954</td>\n",
       "    </tr>\n",
       "    <tr>\n",
       "      <th>20</th>\n",
       "      <td>Single Family Attached</td>\n",
       "      <td>0</td>\n",
       "      <td>0</td>\n",
       "      <td>0</td>\n",
       "    </tr>\n",
       "    <tr>\n",
       "      <th>21</th>\n",
       "      <td>Condo Apartment</td>\n",
       "      <td>0</td>\n",
       "      <td>0</td>\n",
       "      <td>0</td>\n",
       "    </tr>\n",
       "    <tr>\n",
       "      <th>22</th>\n",
       "      <td>Accessory Dwelling Unit</td>\n",
       "      <td>$250,000</td>\n",
       "      <td>92%</td>\n",
       "      <td>$230,000</td>\n",
       "    </tr>\n",
       "    <tr>\n",
       "      <th>23</th>\n",
       "      <td>Southeast</td>\n",
       "      <td>NaN</td>\n",
       "      <td>NaN</td>\n",
       "      <td>NaN</td>\n",
       "    </tr>\n",
       "    <tr>\n",
       "      <th>24</th>\n",
       "      <td>Single Family Detached</td>\n",
       "      <td>$854,757</td>\n",
       "      <td>92%</td>\n",
       "      <td>$786,376</td>\n",
       "    </tr>\n",
       "    <tr>\n",
       "      <th>25</th>\n",
       "      <td>Single Family Attached</td>\n",
       "      <td>$490,662</td>\n",
       "      <td>92%</td>\n",
       "      <td>$451,409</td>\n",
       "    </tr>\n",
       "    <tr>\n",
       "      <th>26</th>\n",
       "      <td>Condo Apartment</td>\n",
       "      <td>$342,842</td>\n",
       "      <td>92%</td>\n",
       "      <td>$315,415</td>\n",
       "    </tr>\n",
       "    <tr>\n",
       "      <th>27</th>\n",
       "      <td>Accessory Dwelling Unit</td>\n",
       "      <td>$250,000</td>\n",
       "      <td>92%</td>\n",
       "      <td>$230,000</td>\n",
       "    </tr>\n",
       "    <tr>\n",
       "      <th>28</th>\n",
       "      <td>Rental Apartment (From Income Cap. Method)</td>\n",
       "      <td>$383,395</td>\n",
       "      <td>92%</td>\n",
       "      <td>$352,723</td>\n",
       "    </tr>\n",
       "    <tr>\n",
       "      <th>29</th>\n",
       "      <td>Non-Residential Uses (3)</td>\n",
       "      <td>(per sq. ft.)</td>\n",
       "      <td>NaN</td>\n",
       "      <td>(per sq. ft.)</td>\n",
       "    </tr>\n",
       "    <tr>\n",
       "      <th>30</th>\n",
       "      <td>Retail</td>\n",
       "      <td>$180</td>\n",
       "      <td>100%</td>\n",
       "      <td>$180</td>\n",
       "    </tr>\n",
       "    <tr>\n",
       "      <th>31</th>\n",
       "      <td>A/B+ Office</td>\n",
       "      <td>$245</td>\n",
       "      <td>100%</td>\n",
       "      <td>$245</td>\n",
       "    </tr>\n",
       "    <tr>\n",
       "      <th>32</th>\n",
       "      <td>B/C/Flex Office</td>\n",
       "      <td>$187</td>\n",
       "      <td>100%</td>\n",
       "      <td>$187</td>\n",
       "    </tr>\n",
       "    <tr>\n",
       "      <th>33</th>\n",
       "      <td>Ind./Manuf./Warehouse</td>\n",
       "      <td>$128</td>\n",
       "      <td>100%</td>\n",
       "      <td>$128</td>\n",
       "    </tr>\n",
       "  </tbody>\n",
       "</table>\n",
       "</div>"
      ],
      "text/plain": [
       "                                    Unnamed: 0         Market   Assessed  \\\n",
       "0                                          NaN         Values      Value   \n",
       "1                                     CATEGORY     (per unit)  Ratio (1)   \n",
       "2                        Residential Units (2)            NaN        NaN   \n",
       "3                                     Columbia            NaN        NaN   \n",
       "4                       Single Family Detached       $934,391        92%   \n",
       "5                       Single Family Attached       $643,910        92%   \n",
       "6                              Condo Apartment       $372,500        92%   \n",
       "7                      Accessory Dwelling Unit       $250,000        92%   \n",
       "8                                     Elkridge            NaN        NaN   \n",
       "9                       Single Family Detached       $648,161        92%   \n",
       "10                      Single Family Attached       $481,835        92%   \n",
       "11                             Condo Apartment       $409,133        92%   \n",
       "12                     Accessory Dwelling Unit       $250,000        92%   \n",
       "13                               Ellicott City            NaN        NaN   \n",
       "14                      Single Family Detached       $928,678        92%   \n",
       "15                      Single Family Attached       $693,842        92%   \n",
       "16                             Condo Apartment       $374,676        92%   \n",
       "17                     Accessory Dwelling Unit       $250,000        92%   \n",
       "18                                  Rural West            NaN        NaN   \n",
       "19                      Single Family Detached     $1,174,950        92%   \n",
       "20                      Single Family Attached              0          0   \n",
       "21                             Condo Apartment              0          0   \n",
       "22                     Accessory Dwelling Unit       $250,000        92%   \n",
       "23                                   Southeast            NaN        NaN   \n",
       "24                      Single Family Detached       $854,757        92%   \n",
       "25                      Single Family Attached       $490,662        92%   \n",
       "26                             Condo Apartment       $342,842        92%   \n",
       "27                     Accessory Dwelling Unit       $250,000        92%   \n",
       "28  Rental Apartment (From Income Cap. Method)       $383,395        92%   \n",
       "29                    Non-Residential Uses (3)  (per sq. ft.)        NaN   \n",
       "30                                      Retail           $180       100%   \n",
       "31                                 A/B+ Office           $245       100%   \n",
       "32                             B/C/Flex Office           $187       100%   \n",
       "33                       Ind./Manuf./Warehouse           $128       100%   \n",
       "\n",
       "       Assessed.1  \n",
       "0          Values  \n",
       "1      (per unit)  \n",
       "2             NaN  \n",
       "3             NaN  \n",
       "4        $859,640  \n",
       "5        $592,397  \n",
       "6        $342,700  \n",
       "7        $230,000  \n",
       "8             NaN  \n",
       "9        $596,308  \n",
       "10       $443,288  \n",
       "11       $376,402  \n",
       "12       $230,000  \n",
       "13            NaN  \n",
       "14       $854,384  \n",
       "15       $638,335  \n",
       "16       $344,702  \n",
       "17       $230,000  \n",
       "18            NaN  \n",
       "19     $1,080,954  \n",
       "20              0  \n",
       "21              0  \n",
       "22       $230,000  \n",
       "23            NaN  \n",
       "24       $786,376  \n",
       "25       $451,409  \n",
       "26       $315,415  \n",
       "27       $230,000  \n",
       "28       $352,723  \n",
       "29  (per sq. ft.)  \n",
       "30           $180  \n",
       "31           $245  \n",
       "32           $187  \n",
       "33           $128  "
      ]
     },
     "execution_count": 415,
     "metadata": {},
     "output_type": "execute_result"
    }
   ],
   "source": [
    "table2[0]"
   ]
  },
  {
   "cell_type": "code",
   "execution_count": 2,
   "id": "ae48fa89",
   "metadata": {},
   "outputs": [
    {
     "data": {
      "text/plain": [
       "583689.7255915521"
      ]
     },
     "execution_count": 2,
     "metadata": {},
     "output_type": "execute_result"
    }
   ],
   "source": [
    "69.67*6722.144 + 30*3845.2651037184"
   ]
  },
  {
   "cell_type": "code",
   "execution_count": 3,
   "id": "c23b171d",
   "metadata": {},
   "outputs": [
    {
     "data": {
      "text/plain": [
       "3515025.5458300156"
      ]
     },
     "execution_count": 3,
     "metadata": {},
     "output_type": "execute_result"
    }
   ],
   "source": [
    "955944.1489634132+584632.0296078336+885124.0543352831+583667.4653333334+505657.8475901525"
   ]
  },
  {
   "cell_type": "code",
   "execution_count": null,
   "id": "866ac29d",
   "metadata": {},
   "outputs": [],
   "source": []
  }
 ],
 "metadata": {
  "kernelspec": {
   "display_name": "Python 3 (ipykernel)",
   "language": "python",
   "name": "python3"
  },
  "language_info": {
   "codemirror_mode": {
    "name": "ipython",
    "version": 3
   },
   "file_extension": ".py",
   "mimetype": "text/x-python",
   "name": "python",
   "nbconvert_exporter": "python",
   "pygments_lexer": "ipython3",
   "version": "3.9.15"
  },
  "vscode": {
   "interpreter": {
    "hash": "40d3a090f54c6569ab1632332b64b2c03c39dcf918b08424e98f38b5ae0af88f"
   }
  }
 },
 "nbformat": 4,
 "nbformat_minor": 5
}
